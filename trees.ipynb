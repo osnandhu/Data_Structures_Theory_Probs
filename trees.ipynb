{
 "cells": [
  {
   "cell_type": "code",
   "execution_count": 12,
   "metadata": {},
   "outputs": [
    {
     "name": "stdout",
     "output_type": "stream",
     "text": [
      "Head Honcho\n"
     ]
    }
   ],
   "source": [
    "class Tree():\n",
    "    def __init__(self,root):\n",
    "        self.root = root\n",
    "        self.children = []\n",
    "    def addNode(self,obj):\n",
    "        self.children.append(obj)\n",
    "class Node():\n",
    "    def __init__(self, data):\n",
    "        self.data = data\n",
    "        self.children = []\n",
    "    def addNode(self,obj):\n",
    "        self.children.append(obj)\n",
    "FunCorp =  Tree('Head Honcho') # Create a tree and add root data.\n",
    "print(FunCorp.root) # ask the Tree for it's root."
   ]
  },
  {
   "cell_type": "code",
   "execution_count": null,
   "metadata": {},
   "outputs": [],
   "source": [
    "# add roots and add children for the roots:\n"
   ]
  }
 ],
 "metadata": {
  "kernelspec": {
   "display_name": "Python 3",
   "language": "python",
   "name": "python3"
  },
  "language_info": {
   "codemirror_mode": {
    "name": "ipython",
    "version": 3
   },
   "file_extension": ".py",
   "mimetype": "text/x-python",
   "name": "python",
   "nbconvert_exporter": "python",
   "pygments_lexer": "ipython3",
   "version": "3.7.4"
  }
 },
 "nbformat": 4,
 "nbformat_minor": 2
}
